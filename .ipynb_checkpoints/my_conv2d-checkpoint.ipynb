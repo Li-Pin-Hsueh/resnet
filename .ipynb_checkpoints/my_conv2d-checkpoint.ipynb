{
 "cells": [
  {
   "cell_type": "code",
   "execution_count": null,
   "metadata": {},
   "outputs": [],
   "source": [
    "import torch\n",
    "import torch.nn as nn\n",
    "import torch.nn.functional as F"
   ]
  },
  {
   "cell_type": "markdown",
   "metadata": {},
   "source": [
    "## Implement Custom Layer"
   ]
  },
  {
   "cell_type": "code",
   "execution_count": null,
   "metadata": {},
   "outputs": [],
   "source": [
    "class MyConv2d(nn.modules.Conv2d):\n",
    "    \n",
    "\n",
    "    def forward(self, input):\n",
    "        \n",
    "        # Calculate result size\n",
    "        width = self.calculateNewWidth(input)\n",
    "        height = self.calculateNewHeight(input)\n",
    "        \n",
    "        # Create Result Tensor\n",
    "        result = torch.zeros(\n",
    "            [input.shape[0] * self.out_channels, width, height], dtype=torch.float32, device='cuda'\n",
    "        )\n",
    "        \n",
    "        # Padding\n",
    "        input = F.pad(input, (self.padding[0], self.padding[0], self.padding[1], self.padding[1]))\n",
    "        \n",
    "        for n1 in range(input.shape[0]):\n",
    "            for n2 in range(self.weight.shape[0]):\n",
    "                for rr in range(result.shape[0]):\n",
    "                    for rc in range(result.shape[1]):\n",
    "                        r = rr*self.stride[1] ; c = rc*self.stride[0]\n",
    "                        result[rr][rc] = 0\n",
    "                        for ch in range(input.shape[1]):\n",
    "                            result[rr][rc] += \\\n",
    "                            input[n1][ch][r][c]*self.weight[n2][ch][0][0] + input[n1][ch][r][c+1]*self.weight[n2][ch][0][1] + input[n1][ch][r][c+2]*self.weight[n2][ch][0][2] + \\\n",
    "                            input[n1][ch][r+1][c]*self.weight[n2][ch][1][0] + input[n1][ch][r+1][c+1]*self.weight[n2][ch][1][1] + input[n1][ch][r+1][c+2]*self.weight[n2][ch][1][2] + \\\n",
    "                            input[n1][ch][r+2][c]*self.weight[n2][ch][2][0] + input[n1][ch][r+2][c+1]*self.weight[n2][ch][2][1] + input[n1][ch][r+2][c+2]*self.weight[n2][ch][2][2]\n",
    "        \n",
    "        #result = result.view(x.shape[0], self.out_channels, width, height)\n",
    "        return result  \n",
    "    def getWindows(self, input):\n",
    "        pass\n",
    "\n",
    "    def calculateNewWidth(self, input):\n",
    "        return (\n",
    "            (input.shape[2] + 2 * self.padding[0] - self.dilation[0] * (self.kernel_size[0] - 1) - 1)\n",
    "            // self.stride[0]\n",
    "        ) + 1\n",
    "\n",
    "    def calculateNewHeight(self, input):\n",
    "        return (\n",
    "            (input.shape[3] + 2 * self.padding[1] - self.dilation[1] * (self.kernel_size[1] - 1) - 1)\n",
    "            // self.stride[1]\n",
    "        ) + 1\n",
    "\n"
   ]
  },
  {
   "cell_type": "code",
   "execution_count": null,
   "metadata": {},
   "outputs": [],
   "source": [
    "device = 'cuda'\n",
    "conv = MyConv2d(3, 1, 3, padding = 1, stride = 1).to(device) # in_channels, out_channels, kernel_size\n",
    "x = torch.randn(3, 3, 64, 64).to(device)\n",
    "out = conv(x)\n",
    "print(out)"
   ]
  },
  {
   "cell_type": "markdown",
   "metadata": {},
   "source": [
    "## Implement ResNet18_Conv2d"
   ]
  },
  {
   "cell_type": "code",
   "execution_count": 1,
   "metadata": {},
   "outputs": [],
   "source": [
    "from torch.nn.modules.module import Module\n",
    "from torch.nn.parameter import Parameter\n",
    "from resnet import ResNet18, ResidualBlock, ResNet\n",
    "\n",
    "    "
   ]
  },
  {
   "cell_type": "code",
   "execution_count": 2,
   "metadata": {},
   "outputs": [],
   "source": [
    "class ResidualBlock_Conv2d(ResidualBlock):\n",
    "    \n",
    "    def __init__(self, inchannel, outchannel, stride=1):\n",
    "        super(ResidualBlock_Conv2d, self).__init__()\n",
    "\n",
    "        self.left = nn.Sequential(\n",
    "            #nn.Conv2d(inchannel, outchannel, kernel_size=3, stride=stride, padding=1, bias=False),\n",
    "            MyConv2d(inchannel, outchannel, kernel_size=3, stride=stride, padding=1),\n",
    "            nn.BatchNorm2d(outchannel),\n",
    "            nn.ReLU(inplace=True),\n",
    "            #nn.Conv2d(outchannel, outchannel, kernel_size=3, stride=1, padding=1, bias=False),\n",
    "            MyConv2d(outchannel, outchannel, kernel_size=3, stride=1, padding=1),\n",
    "            nn.BatchNorm2d(outchannel)\n",
    "        )\n",
    "\n",
    "        ###\n",
    "        self.shortcut = nn.Sequential()\n",
    "        if stride != 1 or inchannel != outchannel:\n",
    "            self.shortcut = nn.Sequential(\n",
    "                #nn.Conv2d(inchannel, outchannel, kernel_size=1, stride=stride, bias=False),\n",
    "                MyConv2d(inchannel, outchannel, kernel_size=1, stride=stride),\n",
    "                nn.BatchNorm2d(outchannel)\n",
    "            )\n",
    "            \n",
    "class ResNet_Conv2d(ResNet):\n",
    "    def __init__(self, ResidualBlock_Conv2d, num_classes=10):\n",
    "        super(ResNet_Conv2d, self).__init__()\n",
    "\n",
    "        self.inchannel = 64\n",
    "        self.conv1 = nn.Sequential(\n",
    "            #nn.Conv2d(3, 64, kernel_size=3, stride=1, padding=1, bias=False),\n",
    "            MyConv2d(3, 64, kernel_size=3, stride=1, padding=1),\n",
    "            nn.BatchNorm2d(64),\n",
    "            nn.ReLU(),\n",
    "        )\n",
    "        self.layer1 = self.make_layer(ResidualBlock, 64,  2, stride=1)\n",
    "        self.layer2 = self.make_layer(ResidualBlock, 128, 2, stride=2)\n",
    "        self.layer3 = self.make_layer(ResidualBlock, 256, 2, stride=2)\n",
    "        self.layer4 = self.make_layer(ResidualBlock, 512, 2, stride=2)\n",
    "        self.fc = nn.Linear(512, num_classes)"
   ]
  },
  {
   "cell_type": "code",
   "execution_count": null,
   "metadata": {},
   "outputs": [],
   "source": []
  }
 ],
 "metadata": {
  "kernelspec": {
   "display_name": "Python 3",
   "language": "python",
   "name": "python3"
  },
  "language_info": {
   "codemirror_mode": {
    "name": "ipython",
    "version": 3
   },
   "file_extension": ".py",
   "mimetype": "text/x-python",
   "name": "python",
   "nbconvert_exporter": "python",
   "pygments_lexer": "ipython3",
   "version": "3.7.7"
  }
 },
 "nbformat": 4,
 "nbformat_minor": 4
}
